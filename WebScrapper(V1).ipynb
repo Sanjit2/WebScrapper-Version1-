{
 "cells": [
  {
   "cell_type": "code",
   "execution_count": 1,
   "metadata": {},
   "outputs": [],
   "source": [
    "from bs4 import BeautifulSoup\n",
    "import requests\n",
    "import pandas as pd"
   ]
  },
  {
   "cell_type": "code",
   "execution_count": 2,
   "metadata": {},
   "outputs": [],
   "source": [
    "URL=\"https://www.amazon.com/SAMSUNG-Smartphone-Unlocked-Android-Titanium/dp/B0CMDJ844V/ref=sr_1_1_sspa?crid=LG44IOZOYZVN&dib=eyJ2IjoiMSJ9.gnyc1yPYGjV9r0xTzQjPPTVBEqTqIoMWF1WUDBg0ax3_xocKT5oNwM4Ja6TIl_GGhPyr6aygupf16MaXlDGmd2Jr-0Za4ERhNHpsu2KFzuMpbVfyCSs5SdfOw8jkuJymlpLTwFdphTiOD19SiVlmSblj8e0kTS9KcY9uq8tuYv7AR_SI-e75D92Hfg4vCZFyTTHkRPlYcaDHIpbsD4s4T-FovMlX6QM1VGqUjlO3Xzo.sTq1KTur_PlCpYU4pH3alLl4qiJKNwZRgsTsSezwmGw&dib_tag=se&keywords=samsung%2Bgalaxy%2Bs24%2Bultra&qid=1728815257&sprefix=samsung%2Caps%2C318&sr=8-1-spons&sp_csd=d2lkZ2V0TmFtZT1zcF9hdGY&th=1\""
   ]
  },
  {
   "cell_type": "code",
   "execution_count": 3,
   "metadata": {},
   "outputs": [],
   "source": [
    "HEADERS=({'User-Agent':'Mozilla/5.0 (Windows NT 10.0; Win64; x64) AppleWebKit/537.36 (KHTML, like Gecko) Chrome/129.0.0.0 Safari/537.36','Accept-Language':'en-US,en;q=0.5'})"
   ]
  },
  {
   "cell_type": "code",
   "execution_count": 4,
   "metadata": {},
   "outputs": [
    {
     "data": {
      "text/plain": [
       "<Response [200]>"
      ]
     },
     "execution_count": 4,
     "metadata": {},
     "output_type": "execute_result"
    }
   ],
   "source": [
    "webpage=requests.get(URL,headers=HEADERS)\n",
    "webpage"
   ]
  },
  {
   "cell_type": "code",
   "execution_count": 9,
   "metadata": {},
   "outputs": [],
   "source": [
    "soup=BeautifulSoup(webpage.content,\"html.parser\")\n"
   ]
  },
  {
   "cell_type": "code",
   "execution_count": 6,
   "metadata": {},
   "outputs": [
    {
     "name": "stdout",
     "output_type": "stream",
     "text": [
      "The Title of the product is: SAMSUNG Galaxy S24 Ultra Cell Phone, 256GB AI Smartphone, Unlocked Android, 50MP Zoom Camera, Long Battery Life, S Pen, US Version, 2024, Titanium Violet\n"
     ]
    }
   ],
   "source": [
    "title=soup.find(\"span\",attrs={\"id\":'productTitle'}).text.strip()\n",
    "print(\"The Title of the product is:\",title)"
   ]
  },
  {
   "cell_type": "code",
   "execution_count": 7,
   "metadata": {},
   "outputs": [
    {
     "name": "stdout",
     "output_type": "stream",
     "text": [
      "The price of the product is:$ 1,043.\n"
     ]
    }
   ],
   "source": [
    "price=soup.find(\"span\",attrs={\"class\":'a-price-whole'}).text.strip()\n",
    "print(\"The price of the product is:$\",price)"
   ]
  },
  {
   "cell_type": "code",
   "execution_count": 8,
   "metadata": {},
   "outputs": [
    {
     "name": "stdout",
     "output_type": "stream",
     "text": [
      "The rating of the product: 4.5 out of 5 stars\n"
     ]
    }
   ],
   "source": [
    "ratings=soup.find(\"span\",attrs={\"class\":'a-icon-alt'}).text.strip()\n",
    "print(\"The rating of the product:\",ratings)"
   ]
  }
 ],
 "metadata": {
  "kernelspec": {
   "display_name": "Python 3",
   "language": "python",
   "name": "python3"
  },
  "language_info": {
   "codemirror_mode": {
    "name": "ipython",
    "version": 3
   },
   "file_extension": ".py",
   "mimetype": "text/x-python",
   "name": "python",
   "nbconvert_exporter": "python",
   "pygments_lexer": "ipython3",
   "version": "3.11.5"
  }
 },
 "nbformat": 4,
 "nbformat_minor": 2
}
